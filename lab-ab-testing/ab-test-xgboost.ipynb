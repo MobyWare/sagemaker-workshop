{
 "cells": [
  {
   "cell_type": "markdown",
   "metadata": {},
   "source": [
    "# Perform A/B testing with a new version of a model"
   ]
  },
  {
   "cell_type": "markdown",
   "metadata": {},
   "source": [
    "## Train another version of your XGBoost model\n",
    "\n",
    "This lab has a dependency on first completing the base XGBoost lab. To get started with this lab, locate your xgboost training job. Navigate to the `Training jobs` section of the SageMaker console. Find your XGBoost training job and select it. Click `Clone`, leave all parameters the same, and click `Create training job` at the bottom of the page.\n",
    "\n",
    "These steps will run a new version of the training job, resulting in a new model. Although we haven't materially changed the model, it provides two distinct versions which allows us to demonstrate A/B testing."
   ]
  },
  {
   "cell_type": "markdown",
   "metadata": {},
   "source": [
    "## Define a new endpoint configuration with two variants\n",
    "\n",
    "Next, create a new endpoint configuration to demonstrate the use of A/B testing.\n",
    "\n",
    "1. Go to `Endpoint configurations` in the SageMaker console, and locate the xgboost endpoint configuration from your earlier lab.\n",
    "\n",
    "2. Click on that configuration.\n",
    "\n",
    "3. Clone the configuration and rename it to `ab-test-xgboost-<your initials here>`.\n",
    "\n",
    "4. Edit the existing model variant. Rename it to `model-v1` and give it a weight of `0.90`.\n",
    "\n",
    "5. Add another model variant based on the second version of the xgboost model. This is the one that resulted from your second xgboost training job discussed earlier in this notebook. Rename it to `model-v2` and give it a weight of `0.10`.\n",
    "\n",
    "6. Finally, click `Create endpoint configuration`."
   ]
  },
  {
   "cell_type": "markdown",
   "metadata": {},
   "source": [
    "## Create a new endpoint using the new endpoint configuration\n",
    "\n",
    "Now create a new endpoint based on the new multi-variant endpoint configuration.\n",
    "\n",
    "1. Navigate to the `Endpoints` section of the SageMaker console and click `Create endpoint`.\n",
    "\n",
    "2. Name it `ab-test-xgboost-<your initials here>`, and choose the endpoint configuration that you just created.\n",
    "\n",
    "3. Click `Create endpoint`.\n",
    " \n",
    "4. Wait until the endpoint status moves to `In service`."
   ]
  },
  {
   "cell_type": "markdown",
   "metadata": {},
   "source": [
    "## Attach to the endpoint"
   ]
  },
  {
   "cell_type": "code",
   "execution_count": null,
   "metadata": {},
   "outputs": [],
   "source": [
    "from sagemaker import RealTimePredictor\n",
    "xgb_predictor = RealTimePredictor(endpoint='ab-test-xgboost')\n",
    "    \n",
    "xgb_predictor.content_type = 'text/csv'\n",
    "xgb_predictor.serializer = csv_serializer\n",
    "xgb_predictor.deserializer = None"
   ]
  },
  {
   "cell_type": "markdown",
   "metadata": {},
   "source": [
    "## Run a set of predictions"
   ]
  },
  {
   "cell_type": "code",
   "execution_count": null,
   "metadata": {},
   "outputs": [],
   "source": [
    "a = np.zeros(shape=(1,70))"
   ]
  },
  {
   "cell_type": "code",
   "execution_count": null,
   "metadata": {},
   "outputs": [],
   "source": [
    "for i in range(5000):\n",
    "    predictions = predict(a[:, 1:])"
   ]
  },
  {
   "cell_type": "markdown",
   "metadata": {},
   "source": [
    "## View the invocation metrics to ensure A/B testing worked\n",
    "\n",
    "Now you can confirm that SageMaker successfully split your traffic across the two model versions.\n",
    "\n",
    "1. Navigate to the `Endpoints` part of the SageMaker console.\n",
    "2. Click on your endpoint to get to the details page.\n",
    "3. Click on `Invocation metrics` to open the CloudWatch invocation metrics for the endpoint.\n",
    "4. Select the `Invocations` metric for each model variant. There should be separate metrics for `model-v1` and `model-v2`.\n",
    "5. Click on the `Graphed metrics` tab and change the `Statistic` to `Sum` and the `Period` to `1 minute`.\n",
    "\n",
    "You should see in the chart that 90% of the traffic went to `model-v1` and 10% went to `model-v2` as expected."
   ]
  },
  {
   "cell_type": "markdown",
   "metadata": {},
   "source": [
    "## Clean up"
   ]
  },
  {
   "cell_type": "code",
   "execution_count": null,
   "metadata": {},
   "outputs": [],
   "source": [
    "sagemaker.Session().delete_endpoint(xgb_predictor.endpoint)"
   ]
  },
  {
   "cell_type": "code",
   "execution_count": null,
   "metadata": {},
   "outputs": [],
   "source": []
  }
 ],
 "metadata": {
  "kernelspec": {
   "display_name": "conda_tensorflow_p36",
   "language": "python",
   "name": "conda_tensorflow_p36"
  },
  "language_info": {
   "codemirror_mode": {
    "name": "ipython",
    "version": 3
   },
   "file_extension": ".py",
   "mimetype": "text/x-python",
   "name": "python",
   "nbconvert_exporter": "python",
   "pygments_lexer": "ipython3",
   "version": "3.6.5"
  }
 },
 "nbformat": 4,
 "nbformat_minor": 2
}
